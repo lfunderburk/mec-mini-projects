{
 "cells": [
  {
   "cell_type": "markdown",
   "id": "0b2eea55-09d4-4ab7-92ad-587eb34bd224",
   "metadata": {},
   "source": [
    "# Scrapy Mini Project\n",
    "\n",
    "Laura Gutierrez Funderburk\n",
    "\n",
    "\n",
    "In this notebook, we are going to scrape quotes.toscrape.com, an synthetic website that lists quotes from famous authors.\n",
    "\n",
    "## Tasks:\n",
    "\n",
    "1. Creating a new Scrapy project\n",
    "2. Writing a spider to crawl a site and extract data\n",
    "3. Exporting the scraped data using the command line\n",
    "4. Changing spider to recursively follow links\n",
    "5. Using spider arguments\n",
    "6. Load the scraped data into a SQLlite3 database"
   ]
  },
  {
   "cell_type": "code",
   "execution_count": 2,
   "id": "1d429219-854d-4482-a7b3-808d28a15159",
   "metadata": {},
   "outputs": [],
   "source": [
    "# Installation\n",
    "#!pip install Scrapy"
   ]
  },
  {
   "cell_type": "code",
   "execution_count": 7,
   "id": "ba03f3f2-f149-4255-96a3-6f40fd2a6016",
   "metadata": {},
   "outputs": [
    {
     "name": "stdout",
     "output_type": "stream",
     "text": [
      "New Scrapy project 'tutorial', using template directory 'C:\\anaconda3\\envs\\mec-miniprojects\\lib\\site-packages\\scrapy\\templates\\project', created in:\n",
      "    C:\\Users\\Laura GF\\Documents\\GitHub\\mec-mini-projects\\mec-5.5.4-webscraping-project\\tutorial\n",
      "\n",
      "You can start your first spider with:\n",
      "    cd tutorial\n",
      "    scrapy genspider example example.com\n"
     ]
    }
   ],
   "source": [
    "# Creating a project\n",
    "!scrapy startproject tutorial"
   ]
  },
  {
   "cell_type": "code",
   "execution_count": 9,
   "id": "1618aac1-c701-46fa-b2ba-db201d80179c",
   "metadata": {},
   "outputs": [
    {
     "name": "stdout",
     "output_type": "stream",
     "text": [
      "Scrapy 2.7.0 - no active project\n",
      "\n",
      "Unknown command: crawl\n",
      "\n",
      "Use \"scrapy\" to see available commands\n"
     ]
    }
   ],
   "source": [
    "# Run\n",
    "!scrapy crawl quotes"
   ]
  },
  {
   "cell_type": "code",
   "execution_count": null,
   "id": "ec9d3034-b54b-42d4-8fcf-c92caac3e487",
   "metadata": {},
   "outputs": [],
   "source": []
  }
 ],
 "metadata": {
  "kernelspec": {
   "display_name": "Python (MEC Mini-Projects)",
   "language": "python",
   "name": "mec-miniprojects"
  },
  "language_info": {
   "codemirror_mode": {
    "name": "ipython",
    "version": 3
   },
   "file_extension": ".py",
   "mimetype": "text/x-python",
   "name": "python",
   "nbconvert_exporter": "python",
   "pygments_lexer": "ipython3",
   "version": "3.7.13"
  }
 },
 "nbformat": 4,
 "nbformat_minor": 5
}
